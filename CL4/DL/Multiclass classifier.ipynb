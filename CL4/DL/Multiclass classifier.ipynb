{
 "cells": [
  {
   "cell_type": "markdown",
   "id": "cd96445a",
   "metadata": {},
   "source": [
    "# Build a Multiclass classifier using the CNN model. Use MNIST or any other suitable dataset. \n",
    "a. Perform Data Pre-processing \n",
    "\n",
    "b. Define Model and perform training \n",
    "\n",
    "c. Evaluate Results using confusion matrix. "
   ]
  },
  {
   "cell_type": "code",
   "execution_count": 3,
   "id": "a2d329d4",
   "metadata": {},
   "outputs": [],
   "source": [
    "import numpy as np\n",
    "import matplotlib.pyplot as plt\n",
    "import tensorflow as tf\n",
    "from tensorflow.keras import layers, models\n",
    "from sklearn.metrics import confusion_matrix, ConfusionMatrixDisplay"
   ]
  },
  {
   "cell_type": "code",
   "execution_count": 4,
   "id": "350e0131",
   "metadata": {},
   "outputs": [],
   "source": [
    "# Load MNIST dataset\n",
    "(x_train, y_train), (x_test, y_test) = tf.keras.datasets.mnist.load_data()\n",
    "\n",
    "# Normalize images (scale pixel values to 0-1)\n",
    "x_train = x_train / 255.0\n",
    "x_test = x_test / 255.0\n",
    "\n",
    "# Reshape to add channel dimension (28x28x1)\n",
    "x_train = x_train.reshape(-1, 28, 28, 1)\n",
    "x_test = x_test.reshape(-1, 28, 28, 1)\n",
    "\n",
    "# One-hot encode the labels\n",
    "y_train_categorical = tf.keras.utils.to_categorical(y_train, 10)\n",
    "y_test_categorical = tf.keras.utils.to_categorical(y_test, 10)\n"
   ]
  },
  {
   "cell_type": "markdown",
   "id": "43377c02",
   "metadata": {},
   "source": [
    "# ---\n",
    "\n",
    "### 🔹 1. **Why divide by `255.0`?**\n",
    "MNIST images have pixel values in the range **0 to 255** (since they’re grayscale).\n",
    "\n",
    "👉 To **normalize** the data, we divide by 255.0 so all pixel values fall between **0.0 and 1.0**.\n",
    "\n",
    "#### ✅ Why is normalization important?\n",
    "- It helps the model **train faster** and more **accurately**.\n",
    "- Neural networks work best when inputs are **scaled**, especially in deep learning.\n",
    "\n",
    "---\n",
    "\n",
    "### 🔹 2. **Why reshape using `.reshape(-1, 28, 28, 1)`?**\n",
    "\n",
    "The original `x_train` shape is `(60000, 28, 28)` → meaning 60,000 grayscale images of size 28x28.\n",
    "\n",
    "But **CNNs in Keras expect 4D input** in this format:\n",
    "\n",
    "```\n",
    "(batch_size, height, width, channels)\n",
    "```\n",
    "\n",
    "So we do:\n",
    "```python\n",
    "x_train.reshape(-1, 28, 28, 1)\n",
    "```\n",
    "\n",
    "#### ✅ Meaning:\n",
    "- `-1` means: *\"infer the batch size automatically\"* (in our case, 60,000 for training, 10,000 for testing).\n",
    "- `28, 28`: height and width of the image.\n",
    "- `1`: since it's grayscale, there’s **1 color channel**.\n",
    "\n",
    "If it were a color image (RGB), it would be `(28, 28, 3)`.\n",
    "\n",
    "---\n",
    "\n",
    "### 🔹 3. **Why convert labels like `3` to `[0 0 0 1 0 0 0 0 0 0]`?**\n",
    "\n",
    "This is called **One-Hot Encoding**.\n",
    "\n",
    "Original labels are just numbers:\n",
    "```python\n",
    "y_train = [5, 0, 4, 1, 9, ...]\n",
    "```\n",
    "\n",
    "But when using **categorical_crossentropy loss**, the model needs target labels in a **vector format**.\n",
    "\n",
    "#### ✅ Example:\n",
    "- Label `3` → One-hot → `[0 0 0 1 0 0 0 0 0 0]`\n",
    "- Label `7` → One-hot → `[0 0 0 0 0 0 0 1 0 0]`\n",
    "\n",
    "Each label becomes a **vector of length 10** (for digits 0–9), with `1` at the correct index.\n",
    "\n",
    "This helps the model calculate the probability for each class and train accordingly.\n",
    "\n",
    "---\n",
    "\n",
    "### Summary Table:\n",
    "\n",
    "| Step                         | Why It's Done                                                                 |\n",
    "|------------------------------|-------------------------------------------------------------------------------|\n",
    "| `x / 255.0`                  | Normalize pixel values (0–1) → faster and stable training                     |\n",
    "| `.reshape(-1, 28, 28, 1)`    | Add channel dimension → CNNs expect 4D input: `(batch, height, width, channel)` |\n",
    "| One-Hot Encoding of labels   | Required for `categorical_crossentropy` loss (multi-class classification)     |\n",
    "\n",
    "---"
   ]
  },
  {
   "cell_type": "code",
   "execution_count": 5,
   "id": "03c563fb",
   "metadata": {},
   "outputs": [
    {
     "name": "stderr",
     "output_type": "stream",
     "text": [
      "C:\\Users\\jayes\\.vscode\\Lib\\site-packages\\keras\\src\\layers\\convolutional\\base_conv.py:107: UserWarning: Do not pass an `input_shape`/`input_dim` argument to a layer. When using Sequential models, prefer using an `Input(shape)` object as the first layer in the model instead.\n",
      "  super().__init__(activity_regularizer=activity_regularizer, **kwargs)\n"
     ]
    }
   ],
   "source": [
    "model = models.Sequential([\n",
    "    layers.Conv2D(32, (3,3), activation='relu', input_shape=(28,28,1)),\n",
    "    layers.MaxPooling2D((2,2)),\n",
    "    layers.Conv2D(64, (3,3), activation='relu'),\n",
    "    layers.MaxPooling2D((2,2)),\n",
    "    layers.Flatten(),\n",
    "    layers.Dense(64, activation='relu'),\n",
    "    layers.Dense(10, activation='softmax')\n",
    "])\n"
   ]
  },
  {
   "cell_type": "markdown",
   "id": "092fc0eb",
   "metadata": {},
   "source": [
    "---\n",
    "\n",
    "#### ✅ `models.Sequential([...])`\n",
    "\n",
    "- We are using the **Sequential API** from Keras, which lets us build a model **layer-by-layer**.\n",
    "- This is perfect for simple linear stacks of layers like CNNs.\n",
    "\n",
    "---\n",
    "\n",
    "#### ✅ `layers.Conv2D(32, (3,3), activation='relu', input_shape=(28,28,1))`\n",
    "\n",
    "- `Conv2D` is the **convolution layer**. It learns **filters** (or kernels) that detect patterns like edges, corners, curves, etc.\n",
    "- `32`: Number of filters → This means the layer will output 32 feature maps.\n",
    "- `(3,3)`: Filter size → Each filter is 3x3 in size.\n",
    "- `activation='relu'`: Applies the **ReLU activation** function → sets all negative values to 0, helping with non-linearity and faster training.\n",
    "- `input_shape=(28,28,1)`: Required only in the **first layer**. It defines the shape of each input image.\n",
    "\n",
    "---\n",
    "\n",
    "#### ✅ `layers.MaxPooling2D((2,2))`\n",
    "\n",
    "- **MaxPooling** downsamples the feature maps to reduce **spatial size** (width/height) and **computation**.\n",
    "- `(2,2)` means it picks the **maximum value from each 2x2 block**, effectively halving the width and height.\n",
    "- This also helps the model focus on the most **important features**.\n",
    "\n",
    "---\n",
    "\n",
    "#### ✅ `layers.Conv2D(64, (3,3), activation='relu')`\n",
    "\n",
    "- A second convolution layer, this time with **64 filters** of size 3x3.\n",
    "- It learns even more complex features (e.g. digit shapes, curves, loops).\n",
    "- `ReLU` again for non-linearity.\n",
    "\n",
    "---\n",
    "\n",
    "#### ✅ `layers.MaxPooling2D((2,2))`\n",
    "\n",
    "- Another downsampling step using 2x2 blocks.\n",
    "- Further reduces spatial dimensions and overfitting.\n",
    "\n",
    "---\n",
    "\n",
    "#### ✅ `layers.Flatten()`\n",
    "\n",
    "- Converts the **2D feature maps** into a **1D vector** to feed into fully connected (`Dense`) layers.\n",
    "- Think of it like unrolling all pixels into a single long vector.\n",
    "\n",
    "---\n",
    "\n",
    "#### ✅ `layers.Dense(64, activation='relu')`\n",
    "\n",
    "- A **fully connected layer** with 64 neurons.\n",
    "- It acts like a decision-making part of the network.\n",
    "- ReLU is again used for non-linearity.\n",
    "\n",
    "---\n",
    "\n",
    "#### ✅ `layers.Dense(10, activation='softmax')`\n",
    "\n",
    "- **Output layer**: 10 neurons → because we have **10 classes (digits 0 to 9)**.\n",
    "- `softmax` gives a **probability distribution** over all 10 classes → sum of all outputs = 1.\n",
    "- The neuron with the highest value is the predicted class.\n",
    "\n",
    "---\n",
    "\n",
    "### 🔍 Visualization of Layer Flow:\n",
    "```\n",
    "Input Image → Conv2D → MaxPool → Conv2D → MaxPool → Flatten → Dense → Output\n",
    "   (28x28)     32x26x26   32x13x13    64x11x11    64x5x5     1600      64        10\n",
    "```\n",
    "\n",
    "---\n",
    "\n",
    "### Summary Table:\n",
    "\n",
    "| Layer                 | Purpose                                                   |\n",
    "|----------------------|-----------------------------------------------------------|\n",
    "| Conv2D               | Detect features like edges, shapes                        |\n",
    "| MaxPooling2D         | Reduce image size and focus on important features         |\n",
    "| Flatten              | Prepare for fully connected layers                        |\n",
    "| Dense (hidden)       | Learn patterns and relationships between features         |\n",
    "| Dense (output)       | Softmax → returns probabilities for 10 classes            |\n",
    "\n",
    "---"
   ]
  },
  {
   "cell_type": "code",
   "execution_count": 6,
   "id": "2c325f74",
   "metadata": {},
   "outputs": [
    {
     "name": "stdout",
     "output_type": "stream",
     "text": [
      "Epoch 1/5\n",
      "\u001b[1m844/844\u001b[0m \u001b[32m━━━━━━━━━━━━━━━━━━━━\u001b[0m\u001b[37m\u001b[0m \u001b[1m23s\u001b[0m 20ms/step - accuracy: 0.8675 - loss: 0.4329 - val_accuracy: 0.9812 - val_loss: 0.0663\n",
      "Epoch 2/5\n",
      "\u001b[1m844/844\u001b[0m \u001b[32m━━━━━━━━━━━━━━━━━━━━\u001b[0m\u001b[37m\u001b[0m \u001b[1m16s\u001b[0m 19ms/step - accuracy: 0.9815 - loss: 0.0593 - val_accuracy: 0.9857 - val_loss: 0.0454\n",
      "Epoch 3/5\n",
      "\u001b[1m844/844\u001b[0m \u001b[32m━━━━━━━━━━━━━━━━━━━━\u001b[0m\u001b[37m\u001b[0m \u001b[1m16s\u001b[0m 19ms/step - accuracy: 0.9876 - loss: 0.0387 - val_accuracy: 0.9888 - val_loss: 0.0379\n",
      "Epoch 4/5\n",
      "\u001b[1m844/844\u001b[0m \u001b[32m━━━━━━━━━━━━━━━━━━━━\u001b[0m\u001b[37m\u001b[0m \u001b[1m16s\u001b[0m 19ms/step - accuracy: 0.9909 - loss: 0.0295 - val_accuracy: 0.9855 - val_loss: 0.0507\n",
      "Epoch 5/5\n",
      "\u001b[1m844/844\u001b[0m \u001b[32m━━━━━━━━━━━━━━━━━━━━\u001b[0m\u001b[37m\u001b[0m \u001b[1m17s\u001b[0m 19ms/step - accuracy: 0.9938 - loss: 0.0217 - val_accuracy: 0.9903 - val_loss: 0.0343\n"
     ]
    },
    {
     "data": {
      "text/plain": [
       "<keras.src.callbacks.history.History at 0x1b5a70e4d90>"
      ]
     },
     "execution_count": 6,
     "metadata": {},
     "output_type": "execute_result"
    }
   ],
   "source": [
    "model.compile(optimizer='adam',\n",
    "              loss='categorical_crossentropy',\n",
    "              metrics=['accuracy'])\n",
    "\n",
    "model.fit(x_train, y_train_categorical, epochs=5, batch_size=64, validation_split=0.1)\n"
   ]
  },
  {
   "cell_type": "markdown",
   "id": "59425e6d",
   "metadata": {},
   "source": [
    "Conv2D: 32 filters of size 3x3, ReLU activation.\n",
    "\n",
    "MaxPooling2D: downsample to reduce spatial size.\n",
    "\n",
    "Two conv + pool layers extract features.\n",
    "\n",
    "Flatten: converts 2D feature maps to 1D.\n",
    "\n",
    "Dense: fully connected layers.\n",
    "\n",
    "Final Dense(10) with softmax gives probabilities for 10 classes."
   ]
  },
  {
   "cell_type": "code",
   "execution_count": 7,
   "id": "7517a049",
   "metadata": {},
   "outputs": [
    {
     "name": "stdout",
     "output_type": "stream",
     "text": [
      "Test loss: 1.5535053797066212\n",
      "Test accuracy: 99.54000115394592\n"
     ]
    }
   ],
   "source": [
    "score = model.evaluate(x_train, y_train_categorical, verbose=0)\n",
    "print('Test loss:', score[0]*100)\n",
    "print('Test accuracy:', score[1]*100)"
   ]
  },
  {
   "cell_type": "code",
   "execution_count": 10,
   "id": "1d85b249",
   "metadata": {},
   "outputs": [
    {
     "name": "stdout",
     "output_type": "stream",
     "text": [
      "\u001b[1m313/313\u001b[0m \u001b[32m━━━━━━━━━━━━━━━━━━━━\u001b[0m\u001b[37m\u001b[0m \u001b[1m2s\u001b[0m 7ms/step\n"
     ]
    }
   ],
   "source": [
    "# Predict test set\n",
    "y_pred_probs = model.predict(x_test)\n",
    "y_pred = np.argmax(y_pred_probs, axis=1)"
   ]
  },
  {
   "cell_type": "markdown",
   "id": "66e9d4ef",
   "metadata": {},
   "source": [
    "predict returns probabilities.\n",
    "\n",
    "argmax picks the class with highest probability.\n",
    "\n",
    "confusion_matrix compares predictions vs true labels.\n",
    "\n",
    "ConfusionMatrixDisplay visualizes it nicely."
   ]
  },
  {
   "cell_type": "code",
   "execution_count": 16,
   "id": "65202dfe",
   "metadata": {},
   "outputs": [
    {
     "data": {
      "image/png": "[encoded data removed]",
      "text/plain": [
       "<Figure size 1000x600 with 2 Axes>"
      ]
     },
     "metadata": {},
     "output_type": "display_data"
    }
   ],
   "source": [
    "import seaborn as sns\n",
    "plt.figure(figsize=(10,6))\n",
    "sns.heatmap(cm,annot = True,cmap='viridis',fmt='2d');"
   ]
  },
  {
   "cell_type": "code",
   "execution_count": null,
   "id": "039ae9e5",
   "metadata": {},
   "outputs": [],
   "source": []
  }
 ],
 "metadata": {
  "kernelspec": {
   "display_name": "Python 3 (ipykernel)",
   "language": "python",
   "name": "python3"
  },
  "language_info": {
   "codemirror_mode": {
    "name": "ipython",
    "version": 3
   },
   "file_extension": ".py",
   "mimetype": "text/x-python",
   "name": "python",
   "nbconvert_exporter": "python",
   "pygments_lexer": "ipython3",
   "version": "3.11.0"
  }
 },
 "nbformat": 4,
 "nbformat_minor": 5
}
